{
 "cells": [
  {
   "cell_type": "markdown",
   "id": "d22cc8f0",
   "metadata": {},
   "source": [
    "# Install dependecies"
   ]
  },
  {
   "cell_type": "code",
   "execution_count": 1,
   "id": "09bce0b4",
   "metadata": {},
   "outputs": [
    {
     "name": "stdout",
     "output_type": "stream",
     "text": [
      "Requirement already satisfied: tensorflow==2.4.1 in ./faceid/lib/python3.8/site-packages (2.4.1)\n",
      "Requirement already satisfied: opencv-python in ./faceid/lib/python3.8/site-packages (4.5.5.64)\n",
      "Requirement already satisfied: matplotlib in ./faceid/lib/python3.8/site-packages (3.5.2)\n",
      "Requirement already satisfied: absl-py~=0.10 in ./faceid/lib/python3.8/site-packages (from tensorflow==2.4.1) (0.15.0)\n",
      "Requirement already satisfied: tensorflow-estimator<2.5.0,>=2.4.0 in ./faceid/lib/python3.8/site-packages (from tensorflow==2.4.1) (2.4.0)\n",
      "Requirement already satisfied: h5py~=2.10.0 in ./faceid/lib/python3.8/site-packages (from tensorflow==2.4.1) (2.10.0)\n",
      "Requirement already satisfied: flatbuffers~=1.12.0 in ./faceid/lib/python3.8/site-packages (from tensorflow==2.4.1) (1.12)\n",
      "Requirement already satisfied: keras-preprocessing~=1.1.2 in ./faceid/lib/python3.8/site-packages (from tensorflow==2.4.1) (1.1.2)\n",
      "Requirement already satisfied: six~=1.15.0 in ./faceid/lib/python3.8/site-packages (from tensorflow==2.4.1) (1.15.0)\n",
      "Requirement already satisfied: termcolor~=1.1.0 in ./faceid/lib/python3.8/site-packages (from tensorflow==2.4.1) (1.1.0)\n",
      "Requirement already satisfied: wheel~=0.35 in ./faceid/lib/python3.8/site-packages (from tensorflow==2.4.1) (0.37.1)\n",
      "Requirement already satisfied: gast==0.3.3 in ./faceid/lib/python3.8/site-packages (from tensorflow==2.4.1) (0.3.3)\n",
      "Requirement already satisfied: protobuf>=3.9.2 in ./faceid/lib/python3.8/site-packages (from tensorflow==2.4.1) (3.20.1)\n",
      "Requirement already satisfied: typing-extensions~=3.7.4 in ./faceid/lib/python3.8/site-packages (from tensorflow==2.4.1) (3.7.4.3)\n",
      "Requirement already satisfied: wrapt~=1.12.1 in ./faceid/lib/python3.8/site-packages (from tensorflow==2.4.1) (1.12.1)\n",
      "Requirement already satisfied: astunparse~=1.6.3 in ./faceid/lib/python3.8/site-packages (from tensorflow==2.4.1) (1.6.3)\n",
      "Requirement already satisfied: numpy~=1.19.2 in ./faceid/lib/python3.8/site-packages (from tensorflow==2.4.1) (1.19.5)\n",
      "Requirement already satisfied: tensorboard~=2.4 in ./faceid/lib/python3.8/site-packages (from tensorflow==2.4.1) (2.9.0)\n",
      "Requirement already satisfied: grpcio~=1.32.0 in ./faceid/lib/python3.8/site-packages (from tensorflow==2.4.1) (1.32.0)\n",
      "Requirement already satisfied: opt-einsum~=3.3.0 in ./faceid/lib/python3.8/site-packages (from tensorflow==2.4.1) (3.3.0)\n",
      "Requirement already satisfied: google-pasta~=0.2 in ./faceid/lib/python3.8/site-packages (from tensorflow==2.4.1) (0.2.0)\n",
      "Requirement already satisfied: python-dateutil>=2.7 in ./faceid/lib/python3.8/site-packages (from matplotlib) (2.8.2)\n",
      "Requirement already satisfied: fonttools>=4.22.0 in ./faceid/lib/python3.8/site-packages (from matplotlib) (4.33.3)\n",
      "Requirement already satisfied: cycler>=0.10 in ./faceid/lib/python3.8/site-packages (from matplotlib) (0.11.0)\n",
      "Requirement already satisfied: pillow>=6.2.0 in ./faceid/lib/python3.8/site-packages (from matplotlib) (9.1.0)\n",
      "Requirement already satisfied: pyparsing>=2.2.1 in ./faceid/lib/python3.8/site-packages (from matplotlib) (3.0.8)\n",
      "Requirement already satisfied: kiwisolver>=1.0.1 in ./faceid/lib/python3.8/site-packages (from matplotlib) (1.4.2)\n",
      "Requirement already satisfied: packaging>=20.0 in ./faceid/lib/python3.8/site-packages (from matplotlib) (21.3)\n",
      "Requirement already satisfied: google-auth-oauthlib<0.5,>=0.4.1 in ./faceid/lib/python3.8/site-packages (from tensorboard~=2.4->tensorflow==2.4.1) (0.4.6)\n",
      "Requirement already satisfied: markdown>=2.6.8 in ./faceid/lib/python3.8/site-packages (from tensorboard~=2.4->tensorflow==2.4.1) (3.3.6)\n",
      "Requirement already satisfied: requests<3,>=2.21.0 in ./faceid/lib/python3.8/site-packages (from tensorboard~=2.4->tensorflow==2.4.1) (2.27.1)\n",
      "Requirement already satisfied: werkzeug>=1.0.1 in ./faceid/lib/python3.8/site-packages (from tensorboard~=2.4->tensorflow==2.4.1) (2.1.2)\n",
      "Requirement already satisfied: google-auth<3,>=1.6.3 in ./faceid/lib/python3.8/site-packages (from tensorboard~=2.4->tensorflow==2.4.1) (2.6.6)\n",
      "Requirement already satisfied: setuptools>=41.0.0 in ./faceid/lib/python3.8/site-packages (from tensorboard~=2.4->tensorflow==2.4.1) (49.2.1)\n",
      "Requirement already satisfied: tensorboard-plugin-wit>=1.6.0 in ./faceid/lib/python3.8/site-packages (from tensorboard~=2.4->tensorflow==2.4.1) (1.8.1)\n",
      "Requirement already satisfied: tensorboard-data-server<0.7.0,>=0.6.0 in ./faceid/lib/python3.8/site-packages (from tensorboard~=2.4->tensorflow==2.4.1) (0.6.1)\n",
      "Requirement already satisfied: requests-oauthlib>=0.7.0 in ./faceid/lib/python3.8/site-packages (from google-auth-oauthlib<0.5,>=0.4.1->tensorboard~=2.4->tensorflow==2.4.1) (1.3.1)\n",
      "Requirement already satisfied: importlib-metadata>=4.4; python_version < \"3.10\" in ./faceid/lib/python3.8/site-packages (from markdown>=2.6.8->tensorboard~=2.4->tensorflow==2.4.1) (4.11.3)\n",
      "Requirement already satisfied: urllib3<1.27,>=1.21.1 in ./faceid/lib/python3.8/site-packages (from requests<3,>=2.21.0->tensorboard~=2.4->tensorflow==2.4.1) (1.26.9)\n",
      "Requirement already satisfied: idna<4,>=2.5; python_version >= \"3\" in ./faceid/lib/python3.8/site-packages (from requests<3,>=2.21.0->tensorboard~=2.4->tensorflow==2.4.1) (3.3)\n",
      "Requirement already satisfied: charset-normalizer~=2.0.0; python_version >= \"3\" in ./faceid/lib/python3.8/site-packages (from requests<3,>=2.21.0->tensorboard~=2.4->tensorflow==2.4.1) (2.0.12)\n",
      "Requirement already satisfied: certifi>=2017.4.17 in ./faceid/lib/python3.8/site-packages (from requests<3,>=2.21.0->tensorboard~=2.4->tensorflow==2.4.1) (2021.10.8)\n",
      "Requirement already satisfied: pyasn1-modules>=0.2.1 in ./faceid/lib/python3.8/site-packages (from google-auth<3,>=1.6.3->tensorboard~=2.4->tensorflow==2.4.1) (0.2.8)\n",
      "Requirement already satisfied: rsa<5,>=3.1.4; python_version >= \"3.6\" in ./faceid/lib/python3.8/site-packages (from google-auth<3,>=1.6.3->tensorboard~=2.4->tensorflow==2.4.1) (4.8)\n",
      "Requirement already satisfied: cachetools<6.0,>=2.0.0 in ./faceid/lib/python3.8/site-packages (from google-auth<3,>=1.6.3->tensorboard~=2.4->tensorflow==2.4.1) (5.0.0)\n",
      "Requirement already satisfied: oauthlib>=3.0.0 in ./faceid/lib/python3.8/site-packages (from requests-oauthlib>=0.7.0->google-auth-oauthlib<0.5,>=0.4.1->tensorboard~=2.4->tensorflow==2.4.1) (3.2.0)\n",
      "Requirement already satisfied: zipp>=0.5 in ./faceid/lib/python3.8/site-packages (from importlib-metadata>=4.4; python_version < \"3.10\"->markdown>=2.6.8->tensorboard~=2.4->tensorflow==2.4.1) (3.8.0)\n",
      "Requirement already satisfied: pyasn1<0.5.0,>=0.4.6 in ./faceid/lib/python3.8/site-packages (from pyasn1-modules>=0.2.1->google-auth<3,>=1.6.3->tensorboard~=2.4->tensorflow==2.4.1) (0.4.8)\n",
      "\u001b[33mWARNING: You are using pip version 20.2.3; however, version 22.0.4 is available.\n",
      "You should consider upgrading via the '/Users/sanjeev/Documents/faceid/faceid/bin/python3 -m pip install --upgrade pip' command.\u001b[0m\n"
     ]
    }
   ],
   "source": [
    "!pip install tensorflow==2.4.1 opencv-python matplotlib"
   ]
  },
  {
   "cell_type": "markdown",
   "id": "5b006cb5",
   "metadata": {},
   "source": [
    "# Import dependencies"
   ]
  },
  {
   "cell_type": "code",
   "execution_count": 2,
   "id": "ea40ee41",
   "metadata": {},
   "outputs": [],
   "source": [
    "#standard dependencies\n",
    "import cv2\n",
    "import os\n",
    "import random\n",
    "import numpy as np\n",
    "from matplotlib import pyplot as plt"
   ]
  },
  {
   "cell_type": "code",
   "execution_count": 3,
   "id": "dff84c4a",
   "metadata": {},
   "outputs": [],
   "source": [
    "#tensorflow dependencies- Functional API\n",
    "from tensorflow.keras.models import Model\n",
    "from tensorflow.keras.layers import Layer, Conv2D, Dense, MaxPooling2D, Input, Flatten\n",
    "import tensorflow as tf"
   ]
  },
  {
   "cell_type": "code",
   "execution_count": 4,
   "id": "7e37d86f",
   "metadata": {},
   "outputs": [],
   "source": [
    "#Setup paths\n",
    "POS_PATH = os.path.join('data','positive')\n",
    "NEG_PATH = os.path.join('data','negative')\n",
    "ANC_PATH = os.path.join('data','anchor')"
   ]
  },
  {
   "cell_type": "code",
   "execution_count": 5,
   "id": "5db117a4",
   "metadata": {},
   "outputs": [],
   "source": [
    "#making directories\n",
    "os.makedirs(POS_PATH)\n",
    "os.makedirs(NEG_PATH)\n",
    "os.makedirs(ANC_PATH)"
   ]
  },
  {
   "cell_type": "code",
   "execution_count": 6,
   "id": "a2d2e727",
   "metadata": {},
   "outputs": [],
   "source": [
    "#uncompress tar gz labelled faces in the wild dataset\n",
    "!tar -xf lfw.tgz"
   ]
  },
  {
   "cell_type": "code",
   "execution_count": 7,
   "id": "d6947a85",
   "metadata": {},
   "outputs": [],
   "source": [
    "#Move lfw images to the following repository data/negative\n",
    "for directory in os.listdir('lfw'):\n",
    "    for file in os.listdir(os.path.join('lfw',directory)):\n",
    "        EX_PATH = os.path.join('lfw',directory,file)\n",
    "        NEW_PATH = os.path.join(NEG_PATH,file)\n",
    "        os.replace(EX_PATH,NEW_PATH)"
   ]
  },
  {
   "cell_type": "code",
   "execution_count": 8,
   "id": "48cb2cf2",
   "metadata": {},
   "outputs": [],
   "source": [
    "#import uuid to generate unique image names\n",
    "import uuid"
   ]
  },
  {
   "cell_type": "code",
   "execution_count": 10,
   "id": "0a46c37a",
   "metadata": {},
   "outputs": [],
   "source": [
    "#establish a connection to the webcame\n",
    "cap = cv2.VideoCapture(0)\n",
    "while cap.isOpened(): #loop through frames till the webcam is open\n",
    "    ret,frame = cap.read() #read frames at every point in time\n",
    "    \n",
    "    frame = frame[130:130+250,530:530+250,:] #cut down frame to 250 X 250\n",
    "    \n",
    "    if cv2.waitKey(1) & 0XFF == ord('a'): #collecting anchor images\n",
    "        imgname = os.path.join(ANC_PATH, '{}.jpg'.format(uuid.uuid1())) #create the unique file path\n",
    "        cv2.imwrite(imgname, frame) #write out anchor image\n",
    "        \n",
    "    if cv2.waitKey(1) & 0XFF == ord('p'): #collecting positive images\n",
    "        imgname = os.path.join(POS_PATH, '{}.jpg'.format(uuid.uuid1()))\n",
    "        cv2.imwrite(imgname, frame)\n",
    "    \n",
    "    cv2.imshow('Image Collection', frame) #rendering the frame back to the screen\n",
    "    \n",
    "    if cv2.waitKey(1) & 0XFF == ord('q'): #breaking\n",
    "        break\n",
    "        \n",
    "cap.release() #release the webcam\n",
    "cv2.destroyAllWindows() #close the image show frame"
   ]
  },
  {
   "cell_type": "code",
   "execution_count": null,
   "id": "b3d83fd7",
   "metadata": {},
   "outputs": [],
   "source": []
  },
  {
   "cell_type": "code",
   "execution_count": null,
   "id": "46abdcd1",
   "metadata": {},
   "outputs": [],
   "source": []
  },
  {
   "cell_type": "code",
   "execution_count": null,
   "id": "50f7ba13",
   "metadata": {},
   "outputs": [],
   "source": []
  },
  {
   "cell_type": "code",
   "execution_count": null,
   "id": "97038542",
   "metadata": {},
   "outputs": [],
   "source": []
  },
  {
   "cell_type": "code",
   "execution_count": null,
   "id": "8eb48248",
   "metadata": {},
   "outputs": [],
   "source": []
  },
  {
   "cell_type": "code",
   "execution_count": null,
   "id": "6599ad3d",
   "metadata": {},
   "outputs": [],
   "source": []
  },
  {
   "cell_type": "code",
   "execution_count": null,
   "id": "0a869d99",
   "metadata": {},
   "outputs": [],
   "source": []
  },
  {
   "cell_type": "code",
   "execution_count": null,
   "id": "ca38cd30",
   "metadata": {},
   "outputs": [],
   "source": []
  },
  {
   "cell_type": "code",
   "execution_count": null,
   "id": "8dfb6c8b",
   "metadata": {},
   "outputs": [],
   "source": []
  },
  {
   "cell_type": "code",
   "execution_count": null,
   "id": "3a296481",
   "metadata": {},
   "outputs": [],
   "source": []
  },
  {
   "cell_type": "code",
   "execution_count": null,
   "id": "0e2e81d1",
   "metadata": {},
   "outputs": [],
   "source": []
  },
  {
   "cell_type": "code",
   "execution_count": null,
   "id": "5b9debe0",
   "metadata": {},
   "outputs": [],
   "source": []
  },
  {
   "cell_type": "code",
   "execution_count": null,
   "id": "cd0d88b4",
   "metadata": {},
   "outputs": [],
   "source": []
  },
  {
   "cell_type": "code",
   "execution_count": null,
   "id": "87bbbeb3",
   "metadata": {},
   "outputs": [],
   "source": []
  },
  {
   "cell_type": "code",
   "execution_count": null,
   "id": "c51e2f84",
   "metadata": {},
   "outputs": [],
   "source": []
  }
 ],
 "metadata": {
  "kernelspec": {
   "display_name": "faceid",
   "language": "python",
   "name": "faceid"
  },
  "language_info": {
   "codemirror_mode": {
    "name": "ipython",
    "version": 3
   },
   "file_extension": ".py",
   "mimetype": "text/x-python",
   "name": "python",
   "nbconvert_exporter": "python",
   "pygments_lexer": "ipython3",
   "version": "3.8.8"
  }
 },
 "nbformat": 4,
 "nbformat_minor": 5
}
